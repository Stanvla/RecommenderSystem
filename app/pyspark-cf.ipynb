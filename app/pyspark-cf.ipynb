{
 "cells": [
  {
   "cell_type": "code",
   "execution_count": 20,
   "metadata": {},
   "outputs": [],
   "source": [
    "import pandas as pd\n",
    "from tqdm.notebook import tqdm"
   ]
  },
  {
   "cell_type": "code",
   "execution_count": 1,
   "metadata": {},
   "outputs": [],
   "source": [
    "\n",
    "from pyspark.ml.recommendation import ALS\n",
    "from pyspark.ml.evaluation import RegressionEvaluator\n",
    "from pyspark.sql import SparkSession\n",
    "spark = SparkSession.builder.appName('app').getOrCreate()\n",
    "\n",
    "seed = 0xDEAD"
   ]
  },
  {
   "cell_type": "code",
   "execution_count": 2,
   "metadata": {},
   "outputs": [
    {
     "name": "stdout",
     "output_type": "stream",
     "text": [
      "+-------+------+-------+--------------------+\n",
      "|user_id|rating|book_id|               title|\n",
      "+-------+------+-------+--------------------+\n",
      "| 276725|     0|   2966|Flesh Tones: A Novel|\n",
      "| 276726|     5| 225829|    Rites of Passage|\n",
      "| 276727|     0|  11054|        The Notebook|\n",
      "| 276729|     3| 246854|      Help!: Level 1|\n",
      "| 276729|     6| 246855|The Amsterdam Con...|\n",
      "| 276733|     0| 123645|Les Particules El...|\n",
      "| 276736|     8|      0|                 unk|\n",
      "| 276737|     6|      1|                 unk|\n",
      "| 276744|     7|   9295|     A Painted House|\n",
      "| 276745|    10|      2|                 unk|\n",
      "| 276746|     0|   2030|           Lightning|\n",
      "| 276746|     0|    227| Manhattan Hunt Club|\n",
      "| 276746|     0|   1004|       Dark Paradise|\n",
      "| 276746|     0|    596|          Night Sins|\n",
      "| 276746|     0|  87284|         At the Edge|\n",
      "| 276746|     0|  30985|       Make Them Cry|\n",
      "| 276747|     9|   4779|Little Altars Eve...|\n",
      "| 276747|     0|  25797|How Stella Got He...|\n",
      "| 276747|     0|   7154|     The Law of Love|\n",
      "| 276747|     9|   1836|   Waiting to Exhale|\n",
      "+-------+------+-------+--------------------+\n",
      "only showing top 20 rows\n",
      "\n"
     ]
    }
   ],
   "source": [
    "data = spark.read.csv('data/ratings_with_titles.csv', inferSchema=True, header=True)\n",
    "data.show()"
   ]
  },
  {
   "cell_type": "code",
   "execution_count": 3,
   "metadata": {},
   "outputs": [
    {
     "name": "stdout",
     "output_type": "stream",
     "text": [
      "+-------+------------------+------------------+------------------+--------------------+\n",
      "|summary|           user_id|            rating|           book_id|               title|\n",
      "+-------+------------------+------------------+------------------+--------------------+\n",
      "|  count|           1149780|           1149780|           1149780|             1149780|\n",
      "|   mean|140386.39512602412|2.8669501991685364|63138.878847257736|            Infinity|\n",
      "| stddev| 80562.27771851105|3.8541838592016537| 69620.05184548115|                 NaN|\n",
      "|    min|                 2|                 0|                 0| A Light in the S...|\n",
      "|    max|            278854|                10|            271378|   �?�?thique en toc|\n",
      "+-------+------------------+------------------+------------------+--------------------+\n",
      "\n"
     ]
    }
   ],
   "source": [
    "data.describe().show()"
   ]
  },
  {
   "cell_type": "markdown",
   "metadata": {},
   "source": [
    "Performing hyper parameter search, with few training epochs"
   ]
  },
  {
   "cell_type": "code",
   "execution_count": 40,
   "metadata": {},
   "outputs": [
    {
     "data": {
      "application/vnd.jupyter.widget-view+json": {
       "model_id": "97a3b846ab8d49389b3ff9b102e3813e",
       "version_major": 2,
       "version_minor": 0
      },
      "text/plain": [
       "  0%|          | 0/3 [00:00<?, ?it/s]"
      ]
     },
     "metadata": {},
     "output_type": "display_data"
    },
    {
     "data": {
      "application/vnd.jupyter.widget-view+json": {
       "model_id": "",
       "version_major": 2,
       "version_minor": 0
      },
      "text/plain": [
       "  0%|          | 0/4 [00:00<?, ?it/s]"
      ]
     },
     "metadata": {},
     "output_type": "display_data"
    },
    {
     "data": {
      "application/vnd.jupyter.widget-view+json": {
       "model_id": "",
       "version_major": 2,
       "version_minor": 0
      },
      "text/plain": [
       "  0%|          | 0/4 [00:00<?, ?it/s]"
      ]
     },
     "metadata": {},
     "output_type": "display_data"
    },
    {
     "data": {
      "application/vnd.jupyter.widget-view+json": {
       "model_id": "",
       "version_major": 2,
       "version_minor": 0
      },
      "text/plain": [
       "  0%|          | 0/4 [00:00<?, ?it/s]"
      ]
     },
     "metadata": {},
     "output_type": "display_data"
    }
   ],
   "source": [
    "train_dev, test = data.randomSplit([0.75, 0.25], seed=seed)\n",
    "train, dev = train_dev.randomSplit([0.75, 0.25], seed=seed)\n",
    "\n",
    "evaluator = RegressionEvaluator(metricName='rmse', labelCol='rating', predictionCol='prediction')\n",
    "results = []\n",
    "\n",
    "for reg in tqdm([2, 1, 0.1]):\n",
    "    for rank in tqdm([4, 8, 16, 32], leave=False):\n",
    "        als = ALS(maxIter=10, regParam=reg, rank=rank, userCol='user_id', itemCol='book_id', ratingCol='rating', seed=seed, coldStartStrategy='drop')\n",
    "        model = als.fit(train)\n",
    "        predictions = model.transform(dev)\n",
    "        rmse = evaluator.evaluate(predictions)\n",
    "        results.append(dict(rmse=rmse, reg=reg, rank=rank))\n"
   ]
  },
  {
   "cell_type": "code",
   "execution_count": 41,
   "metadata": {},
   "outputs": [
    {
     "data": {
      "text/html": [
       "<div>\n",
       "<style scoped>\n",
       "    .dataframe tbody tr th:only-of-type {\n",
       "        vertical-align: middle;\n",
       "    }\n",
       "\n",
       "    .dataframe tbody tr th {\n",
       "        vertical-align: top;\n",
       "    }\n",
       "\n",
       "    .dataframe thead th {\n",
       "        text-align: right;\n",
       "    }\n",
       "</style>\n",
       "<table border=\"1\" class=\"dataframe\">\n",
       "  <thead>\n",
       "    <tr style=\"text-align: right;\">\n",
       "      <th></th>\n",
       "      <th>rmse</th>\n",
       "      <th>reg</th>\n",
       "      <th>rank</th>\n",
       "    </tr>\n",
       "  </thead>\n",
       "  <tbody>\n",
       "    <tr>\n",
       "      <th>7</th>\n",
       "      <td>3.917925</td>\n",
       "      <td>1.0</td>\n",
       "      <td>32</td>\n",
       "    </tr>\n",
       "    <tr>\n",
       "      <th>6</th>\n",
       "      <td>3.928993</td>\n",
       "      <td>1.0</td>\n",
       "      <td>16</td>\n",
       "    </tr>\n",
       "    <tr>\n",
       "      <th>5</th>\n",
       "      <td>3.936872</td>\n",
       "      <td>1.0</td>\n",
       "      <td>8</td>\n",
       "    </tr>\n",
       "    <tr>\n",
       "      <th>4</th>\n",
       "      <td>3.956725</td>\n",
       "      <td>1.0</td>\n",
       "      <td>4</td>\n",
       "    </tr>\n",
       "    <tr>\n",
       "      <th>3</th>\n",
       "      <td>4.005948</td>\n",
       "      <td>2.0</td>\n",
       "      <td>32</td>\n",
       "    </tr>\n",
       "    <tr>\n",
       "      <th>1</th>\n",
       "      <td>4.006461</td>\n",
       "      <td>2.0</td>\n",
       "      <td>8</td>\n",
       "    </tr>\n",
       "    <tr>\n",
       "      <th>2</th>\n",
       "      <td>4.014170</td>\n",
       "      <td>2.0</td>\n",
       "      <td>16</td>\n",
       "    </tr>\n",
       "    <tr>\n",
       "      <th>0</th>\n",
       "      <td>4.017220</td>\n",
       "      <td>2.0</td>\n",
       "      <td>4</td>\n",
       "    </tr>\n",
       "    <tr>\n",
       "      <th>11</th>\n",
       "      <td>4.237160</td>\n",
       "      <td>0.1</td>\n",
       "      <td>32</td>\n",
       "    </tr>\n",
       "    <tr>\n",
       "      <th>10</th>\n",
       "      <td>4.428819</td>\n",
       "      <td>0.1</td>\n",
       "      <td>16</td>\n",
       "    </tr>\n",
       "    <tr>\n",
       "      <th>9</th>\n",
       "      <td>4.630650</td>\n",
       "      <td>0.1</td>\n",
       "      <td>8</td>\n",
       "    </tr>\n",
       "    <tr>\n",
       "      <th>8</th>\n",
       "      <td>4.887768</td>\n",
       "      <td>0.1</td>\n",
       "      <td>4</td>\n",
       "    </tr>\n",
       "  </tbody>\n",
       "</table>\n",
       "</div>"
      ],
      "text/plain": [
       "        rmse  reg  rank\n",
       "7   3.917925  1.0    32\n",
       "6   3.928993  1.0    16\n",
       "5   3.936872  1.0     8\n",
       "4   3.956725  1.0     4\n",
       "3   4.005948  2.0    32\n",
       "1   4.006461  2.0     8\n",
       "2   4.014170  2.0    16\n",
       "0   4.017220  2.0     4\n",
       "11  4.237160  0.1    32\n",
       "10  4.428819  0.1    16\n",
       "9   4.630650  0.1     8\n",
       "8   4.887768  0.1     4"
      ]
     },
     "execution_count": 41,
     "metadata": {},
     "output_type": "execute_result"
    }
   ],
   "source": [
    "pd.DataFrame(results).sort_values(by='rmse')"
   ]
  },
  {
   "cell_type": "code",
   "execution_count": 50,
   "metadata": {},
   "outputs": [
    {
     "name": "stdout",
     "output_type": "stream",
     "text": [
      "Test RMSE :: 3.823, train RMSE :: 2.189\n"
     ]
    }
   ],
   "source": [
    "# for large number of iterations (25 =<) StackOverFlow error occures\n",
    "als = ALS(maxIter=22, regParam=1, rank=32, userCol='user_id', itemCol='book_id', ratingCol='rating', seed=seed, coldStartStrategy='drop')\n",
    "# train on all data except the test part\n",
    "model = als.fit(train_dev)\n",
    "\n",
    "test_preds = model.transform(test)\n",
    "train_preds = model.transform(train_dev)\n",
    "\n",
    "test_rmse = evaluator.evaluate(test_preds)\n",
    "train_rmse = evaluator.evaluate(train_preds)\n",
    "\n",
    "print(f'Test RMSE :: {test_rmse:.3f}, train RMSE :: {train_rmse:.3f}')"
   ]
  },
  {
   "cell_type": "code",
   "execution_count": 51,
   "metadata": {},
   "outputs": [
    {
     "name": "stdout",
     "output_type": "stream",
     "text": [
      "+-------+------+-------+------------------+----------+\n",
      "|user_id|rating|book_id|             title|prediction|\n",
      "+-------+------+-------+------------------+----------+\n",
      "|      8|     5|     12|The Middle Stories|       0.0|\n",
      "|    626|     0|     26|       Wild Animus|0.35724196|\n",
      "|   4092|     0|     26|       Wild Animus|0.24809062|\n",
      "|  11808|     0|     26|       Wild Animus|       0.0|\n",
      "|  15957|     0|     26|       Wild Animus|0.52199364|\n",
      "|  17950|     0|     26|       Wild Animus|0.70216787|\n",
      "|  26583|     0|     26|       Wild Animus| 0.9834663|\n",
      "|  27115|     0|     26|       Wild Animus|       0.0|\n",
      "|  32440|     0|     26|       Wild Animus|0.63466966|\n",
      "|  34823|     0|     26|       Wild Animus|0.51857996|\n",
      "|  35910|     0|     26|       Wild Animus| 0.8382046|\n",
      "|  37950|     3|     26|       Wild Animus| 1.0775675|\n",
      "|  37989|     0|     26|       Wild Animus| 1.3259197|\n",
      "|  41135|     6|     26|       Wild Animus|       0.0|\n",
      "|  51803|     1|     26|       Wild Animus| 1.2931714|\n",
      "|  57412|     0|     26|       Wild Animus|0.12115086|\n",
      "|  60244|     0|     26|       Wild Animus|0.64402777|\n",
      "|  67628|     0|     26|       Wild Animus| 0.9720501|\n",
      "|  69493|     0|     26|       Wild Animus|0.16419128|\n",
      "|  80266|     0|     26|       Wild Animus| 0.6939887|\n",
      "+-------+------+-------+------------------+----------+\n",
      "only showing top 20 rows\n",
      "\n"
     ]
    }
   ],
   "source": [
    "test_preds.show()"
   ]
  },
  {
   "cell_type": "code",
   "execution_count": 52,
   "metadata": {},
   "outputs": [
    {
     "name": "stdout",
     "output_type": "stream",
     "text": [
      "+-------+------+-------+------------------+----------+\n",
      "|user_id|rating|book_id|             title|prediction|\n",
      "+-------+------+-------+------------------+----------+\n",
      "|  92861|     0|     12|The Middle Stories|       0.0|\n",
      "| 276762|     0|     12|               unk|       0.0|\n",
      "|    970|     0|     26|       Wild Animus|       0.0|\n",
      "|   1025|     0|     26|       Wild Animus| 1.0538764|\n",
      "|   1863|     0|     26|       Wild Animus|       0.0|\n",
      "|   1903|     0|     26|       Wild Animus|0.48066524|\n",
      "|   5543|     0|     26|       Wild Animus|0.35533288|\n",
      "|   5916|     0|     26|       Wild Animus| 0.9869093|\n",
      "|   6095|     0|     26|       Wild Animus|       0.0|\n",
      "|   8674|     1|     26|       Wild Animus| 0.9887588|\n",
      "|   8681|     0|     26|       Wild Animus| 1.0587127|\n",
      "|  10532|     0|     26|       Wild Animus| 1.2420533|\n",
      "|  12264|     7|     26|       Wild Animus| 3.5771394|\n",
      "|  14336|     0|     26|       Wild Animus|0.68184763|\n",
      "|  16999|     0|     26|       Wild Animus| 0.9695797|\n",
      "|  17890|     0|     26|       Wild Animus| 0.5336947|\n",
      "|  20147|     2|     26|       Wild Animus|0.62050694|\n",
      "|  21252|     0|     26|       Wild Animus| 0.3328881|\n",
      "|  21484|     0|     26|       Wild Animus| 0.9420468|\n",
      "|  23571|     0|     26|       Wild Animus| 0.8228718|\n",
      "+-------+------+-------+------------------+----------+\n",
      "only showing top 20 rows\n",
      "\n"
     ]
    }
   ],
   "source": [
    "train_preds.show()"
   ]
  },
  {
   "cell_type": "markdown",
   "metadata": {},
   "source": [
    "To use the model to predict recommendations for the new user who liked the Lord of the Rings book we would need to retrain the whole model, with this user included. "
   ]
  },
  {
   "cell_type": "code",
   "execution_count": 72,
   "metadata": {},
   "outputs": [],
   "source": [
    "# 278854 is from data.describe()\n",
    "# 105418 id of the Lord of the Rings Trilogy\n",
    "new_row = [(278854 + 1, 10, 105418, \"Lord of the Rings Trilogy\")]\n",
    "user_df = spark.createDataFrame(new_row, train.columns)\n",
    "# also use all available data\n",
    "extended_df = data.union(user_df)\n",
    "\n",
    "als = ALS(maxIter=22, regParam=1, rank=32, userCol='user_id', itemCol='book_id', ratingCol='rating', seed=seed, coldStartStrategy='drop')\n",
    "model = als.fit(extended_df)"
   ]
  },
  {
   "cell_type": "markdown",
   "metadata": {},
   "source": [
    "Here we can see that model fitted the user quite well"
   ]
  },
  {
   "cell_type": "code",
   "execution_count": 73,
   "metadata": {},
   "outputs": [
    {
     "name": "stdout",
     "output_type": "stream",
     "text": [
      "+-------+------+-------+--------------------+----------+\n",
      "|user_id|rating|book_id|               title|prediction|\n",
      "+-------+------+-------+--------------------+----------+\n",
      "| 278855|    10| 105418|Lord of the Rings...|  8.932368|\n",
      "+-------+------+-------+--------------------+----------+\n",
      "\n"
     ]
    }
   ],
   "source": [
    "results = model.transform(user_df)\n",
    "results.orderBy('prediction', ascending=False).show()"
   ]
  },
  {
   "cell_type": "markdown",
   "metadata": {},
   "source": [
    "Lets see the recommedations"
   ]
  },
  {
   "cell_type": "code",
   "execution_count": 74,
   "metadata": {},
   "outputs": [
    {
     "name": "stdout",
     "output_type": "stream",
     "text": [
      "+-------+--------------------+-------+\n",
      "|book_id|               title|user_id|\n",
      "+-------+--------------------+-------+\n",
      "|     81|                 unk| 278855|\n",
      "|    113|                 unk| 278855|\n",
      "|   9558|Prisonniers du pa...| 278855|\n",
      "|  44552|         Mortal Prey| 278855|\n",
      "|    261|                 unk| 278855|\n",
      "|  15001|   Smoke and Mirrors| 278855|\n",
      "|  24684|  The Delta Decision| 278855|\n",
      "|  54849|         Daw Fantasy| 278855|\n",
      "|  38130|        Split Second| 278855|\n",
      "|  64746|Tides Of Summe (H...| 278855|\n",
      "|  39625|Perfect Little An...| 278855|\n",
      "|  90234|         The Sunbird| 278855|\n",
      "| 247247|         Soho Blues.| 278855|\n",
      "| 247256|She's Not There :...| 278855|\n",
      "|   1322|The Stand: Comple...| 278855|\n",
      "|  27958|           God Knows| 278855|\n",
      "|    447|                 unk| 278855|\n",
      "|  87881|The Sunne in Sple...| 278855|\n",
      "| 108697|          Gatekeeper| 278855|\n",
      "| 180174|Don't Sit Under t...| 278855|\n",
      "+-------+--------------------+-------+\n",
      "only showing top 20 rows\n",
      "\n"
     ]
    }
   ],
   "source": [
    "from pyspark.sql.functions import lit\n",
    "\n",
    "books = data[['book_id', 'title']].distinct()\n",
    "books.withColumn('user_id', lit(278854 + 1)).show()"
   ]
  },
  {
   "cell_type": "code",
   "execution_count": 75,
   "metadata": {},
   "outputs": [
    {
     "name": "stdout",
     "output_type": "stream",
     "text": [
      "+-----------------------------------------------------------------------------------------------------------------+----------+\n",
      "|title                                                                                                            |prediction|\n",
      "+-----------------------------------------------------------------------------------------------------------------+----------+\n",
      "|The Potter                                                                                                       |12.527517 |\n",
      "|Van Gogh Face to Face: The Portraits                                                                             |12.527517 |\n",
      "|Wuthering Heights (Norton Critical Edition)                                                                      |12.527517 |\n",
      "|The Pillsbury Cookbook                                                                                           |11.141712 |\n",
      "|Who Brought the Bread: A Bible Mystery                                                                           |11.067912 |\n",
      "|Herbert the timid dragon                                                                                         |11.067912 |\n",
      "|Bed, Bed, Bed (They Might Be Giants)                                                                             |11.001929 |\n",
      "|Pooh's Bedtime Book                                                                                              |11.001929 |\n",
      "|Horror: The 100 Best Books                                                                                       |10.610192 |\n",
      "|Book of Classic Horror Stories                                                                                   |10.610192 |\n",
      "|Fevre Dream                                                                                                      |10.610192 |\n",
      "|I Know an Old Lady Who Swallowed a Fly                                                                           |10.610147 |\n",
      "|Kid                                                                                                              |10.597972 |\n",
      "|The Globe Illustrated Shakespeare: The Complete Works                                                            |10.573525 |\n",
      "|Tennis Shoes Among the Nephites                                                                                  |10.553628 |\n",
      "|Dragonlover's Guide to Pern                                                                                      |10.442205 |\n",
      "|Pegasus in Flight                                                                                                |10.442205 |\n",
      "|The Tale of Peter Rabbit (Little Books of Beatrix Potter)                                                        |10.442205 |\n",
      "|Merry Christmas With Love (Cherished Moments)                                                                    |10.442205 |\n",
      "|Twelve Days of Christmas (Glitter Glow Book)                                                                     |10.442205 |\n",
      "|Thank You for Your Thoughtfulness                                                                                |10.442205 |\n",
      "|Mississippi Off the Beaten Path, 3rd: A Guide to Unique Places                                                   |10.442205 |\n",
      "|New Tricks I Can Do! (Beginner Books)                                                                            |10.442205 |\n",
      "|A Gift of Dragons                                                                                                |10.442205 |\n",
      "|Unsuitable Job for a Woman                                                                                       |10.423687 |\n",
      "|Healing of Memories                                                                                              |10.423687 |\n",
      "|It's a Cat's Life                                                                                                |10.307226 |\n",
      "|One Day, All Children: The Unlikely Triumph of Teach for America and What I Learned Along the Way                |10.280609 |\n",
      "|Marriage For Sale (The Bridal Bid) (Desire, 1284)                                                                |10.280292 |\n",
      "|Insight Guides London (Insight Guide London)                                                                     |10.280292 |\n",
      "|Yminla?: An Angeleno Explains Life on the Left Coast to His Mother in Brooklyn (Why Am I in La a Pl8spk Book)    |10.280292 |\n",
      "|Selena: Como LA Flor                                                                                             |10.280292 |\n",
      "|Encyclopedia of Southern Culture: Agriculture-Environment                                                        |10.280292 |\n",
      "|Encyclopedia of Southern Culture: Ethnic Life-Law                                                                |10.280292 |\n",
      "|Christmas Cooking for Dummies                                                                                    |10.280292 |\n",
      "|Lost Recipes : Meals to Share with Friends and Family                                                            |10.280292 |\n",
      "|A Taste of Honey                                                                                                 |10.280292 |\n",
      "|Lilac Seduction/Magnolia Road                                                                                    |10.280292 |\n",
      "|Quick &amp; Healthy Cooking for Dummies                                                                          |10.280292 |\n",
      "|The Constitution of the United States: An Introduction                                                           |10.237209 |\n",
      "|Warriors of Cumorah (Heimerdinger, Chris. Tennis Shoes Series.)                                                  |10.131484 |\n",
      "|The golden crown: A novel (Tennis shoes adventure series)                                                        |10.131484 |\n",
      "|The Stone Forest                                                                                                 |10.131484 |\n",
      "|The Lost Scrolls: Continuing the Adventure of Tennis Shoes and the Seven Churches (Tennis Shoes Adventure Series)|10.131484 |\n",
      "|Poetry Speaks: Hear Great Poets Read Their Work from Tennyson to Plath (Book and 3 Audio CDs)                    |10.1109705|\n",
      "|Free : Short Stories                                                                                             |10.075046 |\n",
      "|Roman Fever and Other Stories                                                                                    |10.055345 |\n",
      "|Quarks: The Stuff of Matter                                                                                      |10.022072 |\n",
      "|Spectrum 7: The Best in Contemporary Fantastic Art (Spectrum, No 7 (Cloth))                                      |10.022015 |\n",
      "|Knock `Em Dead 1997: The Ultimate Job Seekers Handbook (10th ed)                                                 |10.022015 |\n",
      "+-----------------------------------------------------------------------------------------------------------------+----------+\n",
      "only showing top 50 rows\n",
      "\n"
     ]
    }
   ],
   "source": [
    "recommendations = model.transform(books.withColumn('user_id', lit(278854 + 1)))\n",
    "recommendations[['title', 'prediction']].orderBy('prediction', ascending=False).show(50, False)"
   ]
  },
  {
   "cell_type": "code",
   "execution_count": 58,
   "metadata": {},
   "outputs": [
    {
     "data": {
      "text/plain": [
       "115602"
      ]
     },
     "execution_count": 58,
     "metadata": {},
     "output_type": "execute_result"
    }
   ],
   "source": [
    "items_ids[0].book_id"
   ]
  }
 ],
 "metadata": {
  "kernelspec": {
   "display_name": "Python 3",
   "language": "python",
   "name": "python3"
  },
  "language_info": {
   "codemirror_mode": {
    "name": "ipython",
    "version": 3
   },
   "file_extension": ".py",
   "mimetype": "text/x-python",
   "name": "python",
   "nbconvert_exporter": "python",
   "pygments_lexer": "ipython3",
   "version": "3.7.3"
  }
 },
 "nbformat": 4,
 "nbformat_minor": 5
}
